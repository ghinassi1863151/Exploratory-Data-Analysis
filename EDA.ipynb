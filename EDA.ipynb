{
 "cells": [
  {
   "cell_type": "markdown",
   "id": "09540f76-f366-46cb-95f0-87219a9e69c5",
   "metadata": {},
   "source": [
    "# Exploratory Data Analysis with Pandas"
   ]
  },
  {
   "cell_type": "markdown",
   "id": "70181984-08c8-41cc-97f9-d63e20bd1bac",
   "metadata": {},
   "source": [
    "The main scope of this notebook is to perform an analysis of the reviews received for the applications (games) in Steam. Each row in the dataset represents a review made by one user (Author) about a specific application.\n",
    "The goal will be to answer different possible research questions."
   ]
  },
  {
   "cell_type": "markdown",
   "id": "f37f91ba-0cdb-405a-8f5c-5d7171a9b883",
   "metadata": {
    "tags": []
   },
   "source": [
    "### Useful imports to analyze the dataset and analyze the results"
   ]
  },
  {
   "cell_type": "code",
   "execution_count": null,
   "id": "ecc889e8-7298-4645-ac87-a260bfa69e96",
   "metadata": {},
   "outputs": [],
   "source": [
    "import pandas as pd\n",
    "import random\n",
    "import numpy as np\n",
    "import matplotlib.pyplot as plt\n",
    "from scipy.stats import linregress, pearsonr, mannwhitneyu, shapiro, ttest_ind, normaltest\n",
    "import seaborn as sea\n",
    "from mpl_toolkits import mplot3d\n",
    "import statsmodels.api as sm\n",
    "import plotly.express as px\n",
    "from sklearn import preprocessing "
   ]
  },
  {
   "cell_type": "markdown",
   "id": "a1f51e27-0e0f-465b-bcd0-8b76de6df1f1",
   "metadata": {},
   "source": [
    "## Preparing the data\n",
    "First we have to load the .csv files and merge them in a single dataframe. We will only select the columns of interest and skip rows that give troubles (for example different types in the same column due to the merge)."
   ]
  },
  {
   "cell_type": "code",
   "execution_count": null,
   "id": "5ecef391-4577-4c95-9fc1-2fa3aef6f3d9",
   "metadata": {},
   "outputs": [],
   "source": [
    "columns = [\"app_id\", \"review_id\",\"app_name\",  \"language\", \"timestamp_created\", \"timestamp_updated\", \"recommended\",                               \n",
    "\"votes_helpful\", \"votes_funny\", \"weighted_vote_score\", \"received_for_free\", \"steam_purchase\", \"author.steamid\", \n",
    "\"author.num_reviews\", \"author.playtime_at_review\"]"
   ]
  },
  {
   "cell_type": "markdown",
   "id": "81d90d98-8b5c-4c31-a5c2-278314cd39ea",
   "metadata": {},
   "source": [
    "To parse the dates we'll use this simple function that converts a timestamp in seconds into a date"
   ]
  },
  {
   "cell_type": "code",
   "execution_count": null,
   "id": "e3e9032d-e1ea-4ac4-813b-ae90d4370fa7",
   "metadata": {},
   "outputs": [],
   "source": [
    "def dateparse(time_in_secs):\n",
    "    return pd.to_datetime(time_in_secs, unit='s')"
   ]
  },
  {
   "cell_type": "code",
   "execution_count": null,
   "id": "57416932-d599-4280-afd3-cf03cbafb8ef",
   "metadata": {},
   "outputs": [],
   "source": [
    "df1 = pd.read_csv(\"./steam_reviews.csv\", usecols = columns, \n",
    "               parse_dates=['timestamp_created', 'timestamp_updated'],\n",
    "               date_parser= dateparse)\n",
    "\n",
    "df2 = pd.read_csv(\"./steam_reviews_1.csv\", usecols = columns, \n",
    "               parse_dates=['timestamp_created', \"timestamp_updated\"], skiprows=[234060, 5938492, 8278792, 9163394],\n",
    "               date_parser=dateparse)\n",
    "\n",
    "df3 = pd.read_csv(\"./steam_reviews_2.csv\",  usecols = columns, \n",
    "               parse_dates=['timestamp_created', 'timestamp_updated'], skiprows=[3895921, 3984228, 5893390, 1929921],\n",
    "               date_parser=dateparse)"
   ]
  },
  {
   "cell_type": "markdown",
   "id": "3b7fb033-6b52-4a87-8ebb-4f433718fe12",
   "metadata": {},
   "source": [
    "To build the actual dataframe we concatenate the dataframes along the rows with the pandas method concat that is almost the same as numpy's concatenate"
   ]
  },
  {
   "cell_type": "code",
   "execution_count": null,
   "id": "147497bf-a897-4b9e-b536-2ed2c2c6324e",
   "metadata": {},
   "outputs": [],
   "source": [
    "df = pd.concat([df1, df2, df3], ignore_index=True)"
   ]
  },
  {
   "cell_type": "markdown",
   "id": "f8c46c9f-e103-4506-9ce2-b1fcafa2383c",
   "metadata": {},
   "source": [
    "Given that the dataframes will consume much memory we suggest to delete the unused ones when possible"
   ]
  },
  {
   "cell_type": "code",
   "execution_count": null,
   "id": "fc2c8b5a-71c4-4df2-98d1-762c691e100f",
   "metadata": {},
   "outputs": [],
   "source": [
    "# deleting unused data frames\n",
    "del [[df1,df2, df3]]"
   ]
  },
  {
   "cell_type": "markdown",
   "id": "f06dd72c-e00e-424b-b217-39ff244b3644",
   "metadata": {
    "tags": []
   },
   "source": [
    "## Let's take a first look at the dataframe"
   ]
  },
  {
   "cell_type": "markdown",
   "id": "e39de9ed-efc7-41db-a799-0165d1fa828d",
   "metadata": {},
   "source": [
    "We can see how many records are stored by using the method _shape_"
   ]
  },
  {
   "cell_type": "code",
   "execution_count": null,
   "id": "9b320f2c-35da-42ec-8a82-fc0027afc283",
   "metadata": {
    "colab": {
     "base_uri": "https://localhost:8080/"
    },
    "id": "qkT0WgBquTt_",
    "outputId": "ef0b0057-0889-41eb-bc4c-1670c436e607"
   },
   "outputs": [
    {
     "data": {
      "text/plain": [
       "(38747371, 15)"
      ]
     },
     "execution_count": 14,
     "metadata": {},
     "output_type": "execute_result"
    }
   ],
   "source": [
    "df.shape"
   ]
  },
  {
   "cell_type": "markdown",
   "id": "e7b2094c-49ff-42a7-b1ba-33fbba55c862",
   "metadata": {},
   "source": [
    "Print the first **k** records with the method _head_"
   ]
  },
  {
   "cell_type": "code",
   "execution_count": null,
   "id": "75523bbc-be46-46fa-9454-a71e17ecfe8d",
   "metadata": {
    "colab": {
     "base_uri": "https://localhost:8080/",
     "height": 394
    },
    "id": "DDgBdBccvLse",
    "outputId": "fdb45952-dd5c-4155-db90-5b96285f99f0"
   },
   "outputs": [
    {
     "data": {
      "text/html": [
       "<div>\n",
       "<style scoped>\n",
       "    .dataframe tbody tr th:only-of-type {\n",
       "        vertical-align: middle;\n",
       "    }\n",
       "\n",
       "    .dataframe tbody tr th {\n",
       "        vertical-align: top;\n",
       "    }\n",
       "\n",
       "    .dataframe thead th {\n",
       "        text-align: right;\n",
       "    }\n",
       "</style>\n",
       "<table border=\"1\" class=\"dataframe\">\n",
       "  <thead>\n",
       "    <tr style=\"text-align: right;\">\n",
       "      <th></th>\n",
       "      <th>app_id</th>\n",
       "      <th>app_name</th>\n",
       "      <th>review_id</th>\n",
       "      <th>language</th>\n",
       "      <th>timestamp_created</th>\n",
       "      <th>timestamp_updated</th>\n",
       "      <th>recommended</th>\n",
       "      <th>votes_helpful</th>\n",
       "      <th>votes_funny</th>\n",
       "      <th>weighted_vote_score</th>\n",
       "      <th>steam_purchase</th>\n",
       "      <th>received_for_free</th>\n",
       "      <th>author.steamid</th>\n",
       "      <th>author.num_reviews</th>\n",
       "      <th>author.playtime_at_review</th>\n",
       "    </tr>\n",
       "  </thead>\n",
       "  <tbody>\n",
       "    <tr>\n",
       "      <th>0</th>\n",
       "      <td>292030</td>\n",
       "      <td>The Witcher 3: Wild Hunt</td>\n",
       "      <td>85185598</td>\n",
       "      <td>schinese</td>\n",
       "      <td>2021-01-23 06:00:29</td>\n",
       "      <td>2021-01-23 06:00:29</td>\n",
       "      <td>True</td>\n",
       "      <td>0.0</td>\n",
       "      <td>0.0</td>\n",
       "      <td>0.0</td>\n",
       "      <td>True</td>\n",
       "      <td>False</td>\n",
       "      <td>7.656120e+16</td>\n",
       "      <td>2.0</td>\n",
       "      <td>1909.0</td>\n",
       "    </tr>\n",
       "    <tr>\n",
       "      <th>1</th>\n",
       "      <td>292030</td>\n",
       "      <td>The Witcher 3: Wild Hunt</td>\n",
       "      <td>85185250</td>\n",
       "      <td>schinese</td>\n",
       "      <td>2021-01-23 05:50:30</td>\n",
       "      <td>2021-01-23 05:50:30</td>\n",
       "      <td>True</td>\n",
       "      <td>0.0</td>\n",
       "      <td>0.0</td>\n",
       "      <td>0.0</td>\n",
       "      <td>True</td>\n",
       "      <td>False</td>\n",
       "      <td>7.656120e+16</td>\n",
       "      <td>10.0</td>\n",
       "      <td>2674.0</td>\n",
       "    </tr>\n",
       "    <tr>\n",
       "      <th>2</th>\n",
       "      <td>292030</td>\n",
       "      <td>The Witcher 3: Wild Hunt</td>\n",
       "      <td>85185111</td>\n",
       "      <td>schinese</td>\n",
       "      <td>2021-01-23 05:46:40</td>\n",
       "      <td>2021-01-23 05:46:40</td>\n",
       "      <td>True</td>\n",
       "      <td>0.0</td>\n",
       "      <td>0.0</td>\n",
       "      <td>0.0</td>\n",
       "      <td>True</td>\n",
       "      <td>False</td>\n",
       "      <td>7.656120e+16</td>\n",
       "      <td>1.0</td>\n",
       "      <td>1060.0</td>\n",
       "    </tr>\n",
       "    <tr>\n",
       "      <th>3</th>\n",
       "      <td>292030</td>\n",
       "      <td>The Witcher 3: Wild Hunt</td>\n",
       "      <td>85184605</td>\n",
       "      <td>english</td>\n",
       "      <td>2021-01-23 05:32:50</td>\n",
       "      <td>2021-01-23 05:32:50</td>\n",
       "      <td>True</td>\n",
       "      <td>0.0</td>\n",
       "      <td>0.0</td>\n",
       "      <td>0.0</td>\n",
       "      <td>True</td>\n",
       "      <td>False</td>\n",
       "      <td>7.656120e+16</td>\n",
       "      <td>3.0</td>\n",
       "      <td>5524.0</td>\n",
       "    </tr>\n",
       "    <tr>\n",
       "      <th>4</th>\n",
       "      <td>292030</td>\n",
       "      <td>The Witcher 3: Wild Hunt</td>\n",
       "      <td>85184287</td>\n",
       "      <td>schinese</td>\n",
       "      <td>2021-01-23 05:23:47</td>\n",
       "      <td>2021-01-23 05:23:47</td>\n",
       "      <td>True</td>\n",
       "      <td>0.0</td>\n",
       "      <td>0.0</td>\n",
       "      <td>0.0</td>\n",
       "      <td>True</td>\n",
       "      <td>False</td>\n",
       "      <td>7.656120e+16</td>\n",
       "      <td>4.0</td>\n",
       "      <td>217.0</td>\n",
       "    </tr>\n",
       "  </tbody>\n",
       "</table>\n",
       "</div>"
      ],
      "text/plain": [
       "   app_id  ... author.playtime_at_review\n",
       "0  292030  ...                    1909.0\n",
       "1  292030  ...                    2674.0\n",
       "2  292030  ...                    1060.0\n",
       "3  292030  ...                    5524.0\n",
       "4  292030  ...                     217.0\n",
       "\n",
       "[5 rows x 15 columns]"
      ]
     },
     "execution_count": 13,
     "metadata": {},
     "output_type": "execute_result"
    }
   ],
   "source": [
    "# print a few lines of the dataset to visualize the format \n",
    "df.head(5)"
   ]
  },
  {
   "cell_type": "markdown",
   "id": "ebc755b8-0869-48ff-ae02-0a7593a2ebd6",
   "metadata": {},
   "source": [
    "Or even check the type of each column with _info_"
   ]
  },
  {
   "cell_type": "code",
   "execution_count": null,
   "id": "4aa40444-b18b-4d8c-a02c-07503006b9f3",
   "metadata": {
    "colab": {
     "base_uri": "https://localhost:8080/"
    },
    "id": "LS-PxwXAu8uX",
    "outputId": "6d4bca05-bd01-448d-be69-2de9127038a2"
   },
   "outputs": [
    {
     "name": "stdout",
     "output_type": "stream",
     "text": [
      "<class 'pandas.core.frame.DataFrame'>\n",
      "RangeIndex: 38747371 entries, 0 to 38747370\n",
      "Data columns (total 15 columns):\n",
      " #   Column                     Dtype         \n",
      "---  ------                     -----         \n",
      " 0   app_id                     int64         \n",
      " 1   app_name                   object        \n",
      " 2   review_id                  int64         \n",
      " 3   language                   object        \n",
      " 4   timestamp_created          datetime64[ns]\n",
      " 5   timestamp_updated          datetime64[ns]\n",
      " 6   recommended                object        \n",
      " 7   votes_helpful              float64       \n",
      " 8   votes_funny                float64       \n",
      " 9   weighted_vote_score        float64       \n",
      " 10  steam_purchase             object        \n",
      " 11  received_for_free          object        \n",
      " 12  author.steamid             float64       \n",
      " 13  author.num_reviews         float64       \n",
      " 14  author.playtime_at_review  float64       \n",
      "dtypes: datetime64[ns](2), float64(6), int64(2), object(5)\n",
      "memory usage: 4.3+ GB\n"
     ]
    }
   ],
   "source": [
    "df.info()"
   ]
  },
  {
   "cell_type": "markdown",
   "id": "1eba832f-0440-4e89-9779-8dab4afd472e",
   "metadata": {},
   "source": [
    "The _describe_ method will give us some statistics about the quantitative features of the dataframe"
   ]
  },
  {
   "cell_type": "code",
   "execution_count": null,
   "id": "b3e9f39b-7fca-4999-8de9-a913f5b02f20",
   "metadata": {
    "colab": {
     "base_uri": "https://localhost:8080/",
     "height": 266
    },
    "id": "T_rF8AYTvCUL",
    "outputId": "437ec5e8-7e99-41c2-b4ca-e25ed143fd79"
   },
   "outputs": [
    {
     "data": {
      "text/html": [
       "<div>\n",
       "<style scoped>\n",
       "    .dataframe tbody tr th:only-of-type {\n",
       "        vertical-align: middle;\n",
       "    }\n",
       "\n",
       "    .dataframe tbody tr th {\n",
       "        vertical-align: top;\n",
       "    }\n",
       "\n",
       "    .dataframe thead th {\n",
       "        text-align: right;\n",
       "    }\n",
       "</style>\n",
       "<table border=\"1\" class=\"dataframe\">\n",
       "  <thead>\n",
       "    <tr style=\"text-align: right;\">\n",
       "      <th></th>\n",
       "      <th>app_id</th>\n",
       "      <th>review_id</th>\n",
       "      <th>votes_helpful</th>\n",
       "      <th>votes_funny</th>\n",
       "      <th>weighted_vote_score</th>\n",
       "      <th>author.steamid</th>\n",
       "      <th>author.num_reviews</th>\n",
       "      <th>author.playtime_at_review</th>\n",
       "    </tr>\n",
       "  </thead>\n",
       "  <tbody>\n",
       "    <tr>\n",
       "      <th>mean</th>\n",
       "      <td>397489.121</td>\n",
       "      <td>52065939.399</td>\n",
       "      <td>454024.616</td>\n",
       "      <td>120378.912</td>\n",
       "      <td>0.162</td>\n",
       "      <td>76561198148967024.000</td>\n",
       "      <td>454033.090</td>\n",
       "      <td>8974.073</td>\n",
       "    </tr>\n",
       "    <tr>\n",
       "      <th>std</th>\n",
       "      <td>254685.673</td>\n",
       "      <td>20914457.694</td>\n",
       "      <td>1413086414.379</td>\n",
       "      <td>22737756.822</td>\n",
       "      <td>0.242</td>\n",
       "      <td>308285377.089</td>\n",
       "      <td>1413086414.377</td>\n",
       "      <td>24213.165</td>\n",
       "    </tr>\n",
       "    <tr>\n",
       "      <th>min</th>\n",
       "      <td>70.000</td>\n",
       "      <td>43.000</td>\n",
       "      <td>0.000</td>\n",
       "      <td>0.000</td>\n",
       "      <td>0.000</td>\n",
       "      <td>76561197860265728.000</td>\n",
       "      <td>1.000</td>\n",
       "      <td>1.000</td>\n",
       "    </tr>\n",
       "    <tr>\n",
       "      <th>25%</th>\n",
       "      <td>250900.000</td>\n",
       "      <td>36583569.000</td>\n",
       "      <td>0.000</td>\n",
       "      <td>0.000</td>\n",
       "      <td>0.000</td>\n",
       "      <td>76561197917248576.000</td>\n",
       "      <td>2.000</td>\n",
       "      <td>554.000</td>\n",
       "    </tr>\n",
       "    <tr>\n",
       "      <th>50%</th>\n",
       "      <td>359550.000</td>\n",
       "      <td>54270641.000</td>\n",
       "      <td>0.000</td>\n",
       "      <td>0.000</td>\n",
       "      <td>0.000</td>\n",
       "      <td>76561198021813296.000</td>\n",
       "      <td>4.000</td>\n",
       "      <td>1870.000</td>\n",
       "    </tr>\n",
       "    <tr>\n",
       "      <th>75%</th>\n",
       "      <td>578080.000</td>\n",
       "      <td>69557564.000</td>\n",
       "      <td>1.000</td>\n",
       "      <td>0.000</td>\n",
       "      <td>0.480</td>\n",
       "      <td>76561198219021776.000</td>\n",
       "      <td>9.000</td>\n",
       "      <td>6941.000</td>\n",
       "    </tr>\n",
       "    <tr>\n",
       "      <th>max</th>\n",
       "      <td>1291340.000</td>\n",
       "      <td>85218673.000</td>\n",
       "      <td>4398046511106.000</td>\n",
       "      <td>4294967295.000</td>\n",
       "      <td>0.996</td>\n",
       "      <td>76561199133265376.000</td>\n",
       "      <td>4398046511108.000</td>\n",
       "      <td>3228103.000</td>\n",
       "    </tr>\n",
       "  </tbody>\n",
       "</table>\n",
       "</div>"
      ],
      "text/plain": [
       "          app_id    review_id  ...  author.num_reviews  author.playtime_at_review\n",
       "mean  397489.121 52065939.399  ...          454033.090                   8974.073\n",
       "std   254685.673 20914457.694  ...      1413086414.377                  24213.165\n",
       "min       70.000       43.000  ...               1.000                      1.000\n",
       "25%   250900.000 36583569.000  ...               2.000                    554.000\n",
       "50%   359550.000 54270641.000  ...               4.000                   1870.000\n",
       "75%   578080.000 69557564.000  ...               9.000                   6941.000\n",
       "max  1291340.000 85218673.000  ...   4398046511108.000                3228103.000\n",
       "\n",
       "[7 rows x 8 columns]"
      ]
     },
     "execution_count": 17,
     "metadata": {},
     "output_type": "execute_result"
    }
   ],
   "source": [
    "# print different statitics of each columns of the datasets\n",
    "pd.set_option('display.float_format', lambda x: '%.3f' % x)\n",
    "df.describe()[1:]"
   ]
  },
  {
   "cell_type": "markdown",
   "id": "50b6b60a-f394-4e54-9f56-97c340cfb3a7",
   "metadata": {},
   "source": [
    "##  Let's explore the dataset by finding simple insights into the reviews.\n",
    "Some of the tasks we would like to complete are:\n",
    "- Plot the number of reviews for each application in descending order.\n",
    "- Find the applications with the best Weighted Vote Score?\n",
    "- Find the applications with the most and the least recommendations?\n",
    "- How many of these applications were purchased, and how many were given for free?"
   ]
  },
  {
   "cell_type": "markdown",
   "id": "11c018f3-bdaf-42b9-9313-3fa343703f4e",
   "metadata": {},
   "source": [
    "### Building a sub-dataframe for the games"
   ]
  },
  {
   "cell_type": "markdown",
   "id": "75a82f3a-d445-4e04-9cca-752db314fcb0",
   "metadata": {},
   "source": [
    "In order to answer this questions is useful to create a dataframe containing the information we need for each game:\n",
    "   - n_reviews: the total number of reviews for that application\n",
    "   - weighted_score_mean: the average the weighted score for the application\n",
    "   - recommended: the number of people who recommended this application"
   ]
  },
  {
   "cell_type": "code",
   "execution_count": null,
   "id": "9ae98ed9-8545-42c2-9805-12133787ac4b",
   "metadata": {},
   "outputs": [],
   "source": [
    "# first we count the number of reviews for each game by grouping and counting the number of different (unique) reviews_id\n",
    "n_reviews = df.groupby(\"app_name\")[\"review_id\"].count()\n",
    "\n",
    "# Then we take the average Weighted vote score grouping by the app name\n",
    "weighted_score_mean = df.groupby(\"app_name\")[\"weighted_vote_score\"].mean()\n",
    "\n",
    "# Now we count the number of recommendations\n",
    "recommendations = df.groupby(\"app_name\")[\"recommended\"].sum()"
   ]
  },
  {
   "cell_type": "markdown",
   "id": "87ab2d94-6778-4730-90dc-e8d3cfdea75d",
   "metadata": {},
   "source": [
    "We separately store in a variable the number of copies for each game that were acquired for free or purchased"
   ]
  },
  {
   "cell_type": "code",
   "execution_count": null,
   "id": "8581151b-074f-4313-9375-dc275dfdd3f3",
   "metadata": {},
   "outputs": [],
   "source": [
    "gratis = df.groupby(\"received_for_free\").review_id.count()"
   ]
  },
  {
   "cell_type": "code",
   "execution_count": null,
   "id": "91cee580-4971-4525-bf20-5e8115c0297c",
   "metadata": {},
   "outputs": [],
   "source": [
    "# Create a new dataframe concatenating the columns\n",
    "game_df = pd.concat([n_reviews, weighted_score_mean, recommendations], axis=1).reset_index()\n",
    "\n",
    "# Rename columns in  a clearer way\n",
    "game_df.rename(columns={\"review_id\": \"n_reviews\", \"weighted_vote_score\": \"weighted_score_mean\"}, inplace=True)"
   ]
  },
  {
   "cell_type": "markdown",
   "id": "0573dea3-0a89-459a-b397-f19119410eae",
   "metadata": {},
   "source": [
    "Let's take a look at this new dataframe"
   ]
  },
  {
   "cell_type": "code",
   "execution_count": null,
   "id": "247a92a3-8f1a-4a33-a1bd-92892c302599",
   "metadata": {},
   "outputs": [],
   "source": [
    "game_df.head()"
   ]
  },
  {
   "cell_type": "markdown",
   "id": "95b567aa-879d-487a-a070-f196237b29e3",
   "metadata": {},
   "source": [
    "Now we would like to order each column separately in order to find the best and worst games for each of them, this will also help us to plot them later. We take the first 20 games."
   ]
  },
  {
   "cell_type": "code",
   "execution_count": null,
   "id": "e12022bd-50e4-4f40-a8f6-6bc088028c5c",
   "metadata": {},
   "outputs": [],
   "source": [
    "# most reviewed\n",
    "most_reviewed = game_df.sort_values(by=\"n_reviews\", ascending=False)[:20]\n",
    "\n",
    "# highest score\n",
    "highest_score =  game_df.sort_values(by=\"weighted_score_mean\", ascending=False)[:20]\n",
    "\n",
    "# most and least recommended\n",
    "most_recommended = df_per_game.sort_values(by=\"recommended\", ascending=False)[:20]\n",
    "least_recommended = df_per_game.sort_values(by=\"recommended\", ascending=True)[:20]"
   ]
  },
  {
   "cell_type": "markdown",
   "id": "2ff09abd-fc00-44ee-a39d-80edd418618e",
   "metadata": {},
   "source": [
    "Who is the most recommended? and the least?"
   ]
  },
  {
   "cell_type": "code",
   "execution_count": 12,
   "id": "615712f7-4cda-472f-9ead-87f3adca2dae",
   "metadata": {
    "colab": {
     "base_uri": "https://localhost:8080/"
    },
    "id": "Yec-kje76n9P",
    "outputId": "cf14b161-a063-4bd8-f4fb-b0b14be185c0"
   },
   "outputs": [
    {
     "name": "stdout",
     "output_type": "stream",
     "text": [
      "PLAYERUNKNOWN'S BATTLEGROUNDS has the most recommendations: 1772834\n",
      "Neon Hardcorps has the least recommendations: 178\n"
     ]
    }
   ],
   "source": [
    "print(most_recommended[\"app_name\"].iloc[0], 'has the most recommendations:', most_recommended[\"recommended\"].iloc[0])\n",
    "print(least_recommended[\"app_name\"].iloc[0], 'has the least recommendations:', least_recommended[\"recommended\"].iloc[0])"
   ]
  },
  {
   "cell_type": "markdown",
   "id": "b7ef4424-0cdb-400b-bd78-8f1c75ee0a13",
   "metadata": {},
   "source": [
    "### Plotting the results\n",
    "For this task we will use _cmap_ to have colorful barplots and we will implement a function to return a plot given the correct data."
   ]
  },
  {
   "cell_type": "code",
   "execution_count": null,
   "id": "b9284215-e4a1-42e0-be4e-7591142a8fb2",
   "metadata": {},
   "outputs": [],
   "source": [
    "# to use cmaps\n",
    "rescale = lambda y: (y*3 - np.min(y)) / (np.max(y) - np.min(y)) \n",
    "\n",
    "#funtion to use cmap with plt.bar\n",
    "def c_map(cmap_name,y):\n",
    "    return plt.get_cmap(cmap_name)(rescale(y))\n",
    "\n",
    "#cmap color extractor\n",
    "def colors_from_cmap(cmap_name, length): \n",
    "    colors = plt.get_cmap(cmap_name)(np.linspace(0.2, 1, length))\n",
    "    return colors"
   ]
  },
  {
   "cell_type": "markdown",
   "id": "3fd4fbff-bf52-4608-93be-56e3f758b06f",
   "metadata": {},
   "source": [
    "The actual function to plot the data"
   ]
  },
  {
   "cell_type": "code",
   "execution_count": null,
   "id": "0d9f2f73-0976-4083-a053-a5717beed0c9",
   "metadata": {},
   "outputs": [],
   "source": [
    "def cmap_barplot(x, y, size, title, xlab = '', ylab = '', color_map, num_colors)\n",
    "    '''\n",
    "    function to plot a barplot with cmap\n",
    "    inputs:\n",
    "    x, y = a column of a dataframe\n",
    "    size = a tuple with the figure size\n",
    "    title = the figure titleù\n",
    "    xlab, ylab = axis labels\n",
    "    color_map = a string specifying the color map to apply\n",
    "    num_colors = number of colors required\n",
    "    '''\n",
    "    fig = plt.figure(0, figsize=(15, 7));\n",
    "    plt.title(title);\n",
    "    plt.barh(y.iloc[::-1],\n",
    "             x.iloc[::-1],\n",
    "             color=colors_from_cmap(color_map, num_colors));\n",
    "    plt.xlabel(xlab);\n",
    "    plt.ylabel(ylab);\n",
    "    plt.show();"
   ]
  },
  {
   "cell_type": "markdown",
   "id": "60106ebf-7ce8-4d67-a3dd-b0fea28b3ef3",
   "metadata": {},
   "source": [
    "#### Plot for the most reviewed games"
   ]
  },
  {
   "cell_type": "code",
   "execution_count": 16,
   "id": "8f93f041-106a-4c1a-aa43-86f5eed54a6f",
   "metadata": {
    "colab": {
     "base_uri": "https://localhost:8080/",
     "height": 458
    },
    "id": "XgpC_m7avtRB",
    "outputId": "86de5fec-c716-48d0-9f5c-c0c53f848146"
   },
   "outputs": [
    {
     "data": {
      "image/png": "[encoded data removed]",
      "text/plain": [
       "<Figure size 1080x504 with 1 Axes>"
      ]
     },
     "metadata": {
      "needs_background": "light"
     },
     "output_type": "display_data"
    }
   ],
   "source": [
    "cmap_barplot(most_reviewed[\"app_name\"].iloc[::-1], most_reviewed[\"n_reviews\"].iloc[::-1], \n",
    "             (15, 7), \"Most reviewed games\", \"Number of reviews\", 'Games', \"Reds\", 20)"
   ]
  },
  {
   "cell_type": "markdown",
   "id": "20aa16d3-7cdb-438a-9b5b-c15a197424e1",
   "metadata": {},
   "source": [
    "#### Plot for the most recommended games"
   ]
  },
  {
   "cell_type": "code",
   "execution_count": 17,
   "id": "18052e0a-2471-43ab-8651-ef0ff8afc7d6",
   "metadata": {
    "colab": {
     "base_uri": "https://localhost:8080/",
     "height": 458
    },
    "id": "P3SfmicHv5Pz",
    "outputId": "cf27a8c4-54d6-4e49-c595-1002979813a2"
   },
   "outputs": [
    {
     "data": {
      "image/png": "[encoded data removed]",
      "text/plain": [
       "<Figure size 1080x504 with 1 Axes>"
      ]
     },
     "metadata": {
      "needs_background": "light"
     },
     "output_type": "display_data"
    }
   ],
   "source": [
    "cmap_barplot(most_reviewed[\"app_name\"].iloc[::-1], most_reviewed[\"recommended\"].iloc[::-1], \n",
    "             (15, 7), \"Most recommended games\", \"Number of recommendations\", 'Games', 'Blues', 20)"
   ]
  },
  {
   "cell_type": "markdown",
   "id": "01e03d6a-0ba5-4a5f-a9a8-fcbda8868f1a",
   "metadata": {},
   "source": [
    "#### Plot for the least recommended games"
   ]
  },
  {
   "cell_type": "code",
   "execution_count": null,
   "id": "2a060878-f118-403b-9192-483f7e1724e9",
   "metadata": {
    "colab": {
     "base_uri": "https://localhost:8080/",
     "height": 458
    },
    "id": "zn0K2qhlv99G",
    "outputId": "8796fc80-c593-4afa-ca43-cef3a3edb756"
   },
   "outputs": [
    {
     "data": {
      "image/png": "[encoded data removed]",
      "text/plain": [
       "<Figure size 1080x504 with 1 Axes>"
      ]
     },
     "metadata": {
      "needs_background": "light"
     },
     "output_type": "display_data"
    }
   ],
   "source": [
    "cmap_barplot(most_reviewed[\"app_name\"], most_reviewed[\"recommended\"], \n",
    "             (15, 7), \"Least recommended games\", \"Number of recommendations\", 'Games', 'Oranges', 20)"
   ]
  },
  {
   "cell_type": "markdown",
   "id": "76e168c9-ea81-43fa-93c6-9a6d17094dd4",
   "metadata": {},
   "source": [
    "#### Highest scored games"
   ]
  },
  {
   "cell_type": "code",
   "execution_count": null,
   "id": "14cbc569-4f1b-4363-bdb7-2988daa46e7b",
   "metadata": {
    "colab": {
     "base_uri": "https://localhost:8080/",
     "height": 458
    },
    "id": "iS93Q6XGwEYO",
    "outputId": "d9238037-34b2-405e-9942-30a1fb7b0a56"
   },
   "outputs": [
    {
     "data": {
      "image/png": "[encoded data removed]",
      "text/plain": [
       "<Figure size 1080x504 with 1 Axes>"
      ]
     },
     "metadata": {
      "needs_background": "light"
     },
     "output_type": "display_data"
    }
   ],
   "source": [
    "cmap_barplot(most_reviewed[\"app_name\"].iloc[::-1], most_reviewed[\"weighted_score_mean\"].iloc[::-1], \n",
    "             (15, 7), \"Highest scored games\", \"Average weighted score\", 'Games', 'Greens', 20)"
   ]
  },
  {
   "cell_type": "markdown",
   "id": "a0193012-3c90-43cb-83e6-f724d2831e7b",
   "metadata": {},
   "source": [
    "#### Pie plot of the purchased and for free games"
   ]
  },
  {
   "cell_type": "code",
   "execution_count": 43,
   "id": "de937358-52f8-49af-8727-00d014f85051",
   "metadata": {
    "colab": {
     "base_uri": "https://localhost:8080/",
     "height": 482
    },
    "id": "BEeb5sZhwP5b",
    "outputId": "5afa2ca4-dddf-426f-f055-242cd8a7ff26"
   },
   "outputs": [
    {
     "data": {
      "image/png": "[encoded data removed]",
      "text/plain": [
       "<Figure size 576x576 with 1 Axes>"
      ]
     },
     "metadata": {},
     "output_type": "display_data"
    }
   ],
   "source": [
    "fig = plt.figure(0, figsize=(8, 8))\n",
    "plt.title(\"Applications purchased vs applications given for free\");\n",
    "plt.pie(labels = [\"purchased\", \"free\"],\n",
    "       x = gratis/df.shape[0],\n",
    "       colors=[\"turquoise\", \"darkslategrey\"], explode =  [0.1, 0.1]);\n",
    "plt.title(\"Copies purchased vs copies given for free, normalized\");"
   ]
  },
  {
   "cell_type": "markdown",
   "id": "e637adfd-7376-452a-8d16-6a37bbc58462",
   "metadata": {},
   "source": [
    "## What is the preferred time to review a game?\n",
    "It might be useful to know the most common time to do a review and plot the number of reviews for given intervals of time.\n",
    "\n",
    "For this task we will create a dataframe using only the columns that refer to the time a review has been made."
   ]
  },
  {
   "cell_type": "code",
   "execution_count": null,
   "id": "6d2be59d-ba1f-4bc6-925a-84bb1999e066",
   "metadata": {},
   "outputs": [],
   "source": [
    "# extract the column of timestamps\n",
    "time_df = df[['timestamp_created']]\n",
    "\n",
    "#Change the type and store in a new column\n",
    "time_df['Time_review'] = pd.to_datetime(time_df['timestamp_created'], unit='s').dt.strftime('%H:%M')"
   ]
  },
  {
   "cell_type": "markdown",
   "id": "7ff07f55-0e74-4ac6-a838-f2bf7c7b9ac1",
   "metadata": {},
   "source": [
    "Now we count the number of occurrencies for each unique time we have and find the most common. For instance this operation can be made also with different time formats (like only considering the hours without the minutes)"
   ]
  },
  {
   "cell_type": "code",
   "execution_count": null,
   "id": "5ebf2ecb-325f-4f91-9248-6c4bb5f2588e",
   "metadata": {
    "colab": {
     "base_uri": "https://localhost:8080/"
    },
    "id": "YWLDfcVbxed6",
    "outputId": "353586b6-8268-4e69-8b19-b9710b45d29b"
   },
   "outputs": [
    {
     "name": "stdout",
     "output_type": "stream",
     "text": [
      "14:50 is the most common time with 31247 occurrencies\n"
     ]
    }
   ],
   "source": [
    "# finds and print the max number of occurrencies and the time associated\n",
    "ordered_time = time_df['Time_review'].value_counts().reset_index()\n",
    "most_common_time = np.array(ordered_time.reset_index().head(1))[0]\n",
    "print(most_common_time[0], 'is the most common time with', most_common_time[1], 'occurrencies')"
   ]
  },
  {
   "cell_type": "code",
   "execution_count": null,
   "id": "972b5d73-5622-41bf-825e-2e9cec6e0c74",
   "metadata": {
    "colab": {
     "base_uri": "https://localhost:8080/",
     "height": 419
    },
    "id": "NAqjM5C6xh9k",
    "outputId": "0e2f0076-dd94-4abe-d318-3f9abaddee93"
   },
   "outputs": [
    {
     "data": {
      "text/html": [
       "<div>\n",
       "<style scoped>\n",
       "    .dataframe tbody tr th:only-of-type {\n",
       "        vertical-align: middle;\n",
       "    }\n",
       "\n",
       "    .dataframe tbody tr th {\n",
       "        vertical-align: top;\n",
       "    }\n",
       "\n",
       "    .dataframe thead th {\n",
       "        text-align: right;\n",
       "    }\n",
       "</style>\n",
       "<table border=\"1\" class=\"dataframe\">\n",
       "  <thead>\n",
       "    <tr style=\"text-align: right;\">\n",
       "      <th></th>\n",
       "      <th>index</th>\n",
       "      <th>Time_review</th>\n",
       "    </tr>\n",
       "  </thead>\n",
       "  <tbody>\n",
       "    <tr>\n",
       "      <th>0</th>\n",
       "      <td>14:50</td>\n",
       "      <td>31247</td>\n",
       "    </tr>\n",
       "    <tr>\n",
       "      <th>1</th>\n",
       "      <td>15:05</td>\n",
       "      <td>31187</td>\n",
       "    </tr>\n",
       "    <tr>\n",
       "      <th>2</th>\n",
       "      <td>15:07</td>\n",
       "      <td>31187</td>\n",
       "    </tr>\n",
       "    <tr>\n",
       "      <th>3</th>\n",
       "      <td>14:46</td>\n",
       "      <td>31184</td>\n",
       "    </tr>\n",
       "    <tr>\n",
       "      <th>4</th>\n",
       "      <td>14:52</td>\n",
       "      <td>31163</td>\n",
       "    </tr>\n",
       "    <tr>\n",
       "      <th>...</th>\n",
       "      <td>...</td>\n",
       "      <td>...</td>\n",
       "    </tr>\n",
       "    <tr>\n",
       "      <th>1435</th>\n",
       "      <td>06:43</td>\n",
       "      <td>23562</td>\n",
       "    </tr>\n",
       "    <tr>\n",
       "      <th>1436</th>\n",
       "      <td>06:29</td>\n",
       "      <td>23561</td>\n",
       "    </tr>\n",
       "    <tr>\n",
       "      <th>1437</th>\n",
       "      <td>06:20</td>\n",
       "      <td>23544</td>\n",
       "    </tr>\n",
       "    <tr>\n",
       "      <th>1438</th>\n",
       "      <td>05:55</td>\n",
       "      <td>23454</td>\n",
       "    </tr>\n",
       "    <tr>\n",
       "      <th>1439</th>\n",
       "      <td>06:01</td>\n",
       "      <td>23439</td>\n",
       "    </tr>\n",
       "  </tbody>\n",
       "</table>\n",
       "<p>1440 rows × 2 columns</p>\n",
       "</div>"
      ],
      "text/plain": [
       "      index  Time_review\n",
       "0     14:50        31247\n",
       "1     15:05        31187\n",
       "2     15:07        31187\n",
       "3     14:46        31184\n",
       "4     14:52        31163\n",
       "...     ...          ...\n",
       "1435  06:43        23562\n",
       "1436  06:29        23561\n",
       "1437  06:20        23544\n",
       "1438  05:55        23454\n",
       "1439  06:01        23439\n",
       "\n",
       "[1440 rows x 2 columns]"
      ]
     },
     "execution_count": 32,
     "metadata": {},
     "output_type": "execute_result"
    }
   ],
   "source": [
    "ordered_time"
   ]
  },
  {
   "cell_type": "markdown",
   "id": "8a857c37-e5d6-4ff3-8fd1-79b56be7d6aa",
   "metadata": {},
   "source": [
    "### Plot the occurrences for an interval of time"
   ]
  },
  {
   "cell_type": "code",
   "execution_count": 42,
   "id": "d8e684de-7dd7-45ec-8e97-bfdcb416137f",
   "metadata": {
    "id": "gZaXtSO94PwV"
   },
   "outputs": [],
   "source": [
    "def reviews_intervals(intervals): \n",
    "    '''\n",
    "    Given a list of intervals this functions, a dataframe and a column of interest \n",
    "    creates an histogram of the frequencies for each interval\n",
    "    '''\n",
    "    \n",
    "    initial, final = intervals[::2], intervals[1::2]\n",
    "    intervals = pd.DataFrame({\"Initial time\": initial, \"Final time\": final})\n",
    "    \n",
    "    for i in range(len(intervals)):\n",
    "        # create a new column for each interval and fill with 0 or 1 if the time review is the interval\n",
    "        time_df[intervals.iloc[i,0]+'-'+intervals.iloc[i,1]]=np.where((intervals.iloc[i,0] <= time_df['Time_review']) & (time_df['Time_review'] <= intervals.iloc[i,1]) , 1, 0)\n",
    "    \n",
    "    #store the dataframe without the columns 'Time_review','timestamp_created'\n",
    "    nb_review_intervals = time_df.drop(['Time_review','timestamp_created'], axis=1)\n",
    "    \n",
    "    nb_review_intervals.sum().plot.barh(title='Number of reviews for each interval', color=colors_from_cmap('autumn', intervals.shape[0]), figsize=(10,7));"
   ]
  },
  {
   "cell_type": "code",
   "execution_count": 43,
   "id": "5879ab6c-5963-43fe-9cb3-d555b7956a35",
   "metadata": {
    "colab": {
     "base_uri": "https://localhost:8080/",
     "height": 457
    },
    "id": "TWaSocnF4XRp",
    "outputId": "b868365b-0b50-4727-9191-a1cc9bba83ae"
   },
   "outputs": [
    {
     "data": {
      "image/png": "[encoded data removed]",
      "text/plain": [
       "<Figure size 720x504 with 1 Axes>"
      ]
     },
     "metadata": {
      "needs_background": "light"
     },
     "output_type": "display_data"
    }
   ],
   "source": [
    "# create the nested list of the homework example\n",
    "intervals = ['06:00:00',  '10:59:59', '11:00:00', '13:59:59','14:00:00', '16:59:59', '17:00:00', '19:59:59', '20:00:00', '23:59:59','00:00:00','02:59:59', '03:00:00', '05:59:59'] \n",
    "\n",
    "#apply the function 'reviews_intervals'\n",
    "reviews_intervals(intervals)"
   ]
  },
  {
   "cell_type": "markdown",
   "id": "257978d0-0d77-4bc2-b0f4-0c420fd7b942",
   "metadata": {
    "tags": []
   },
   "source": [
    "## What are the most common languages?\n",
    "The reviews are done from all over the world but what are the most common ones?\n",
    "\n",
    "We can answer this by grouping and counting, then we'll extract some informations from a filtered dataset with only the most relevant languages."
   ]
  },
  {
   "cell_type": "code",
   "execution_count": 33,
   "id": "1287ac2b-f53a-4369-9be2-25d26e33457b",
   "metadata": {
    "colab": {
     "base_uri": "https://localhost:8080/"
    },
    "id": "a40XWW84kaih",
    "outputId": "eca3514a-0c11-43f8-ccac-ca91ca57017c"
   },
   "outputs": [
    {
     "name": "stdout",
     "output_type": "stream",
     "text": [
      "The Top 3 languages are : english schinese russian\n"
     ]
    }
   ],
   "source": [
    "# sorted number of reviews in each language in descending order\n",
    "reviews_per_language = df.groupby(\"language\")[\"review_id\"].count().sort_values(ascending=False)\n",
    "\n",
    "#store and print top three languages\n",
    "top_three_languages = reviews_per_language[:3].index.tolist()\n",
    "print('The Top 3 languages are :',*top_three_languages)"
   ]
  },
  {
   "cell_type": "markdown",
   "id": "c24678cd-c654-4d22-939a-452d37ba9545",
   "metadata": {
    "id": "yxUZi83HkdYy"
   },
   "source": [
    "Here we create the function we will use to filter the dataset by language."
   ]
  },
  {
   "cell_type": "code",
   "execution_count": 32,
   "id": "90899ac3-6385-42ee-b7ae-9457d3c472ef",
   "metadata": {
    "id": "YReNFpqWxzSN"
   },
   "outputs": [],
   "source": [
    "def filter_by_language(df, languages):\n",
    "    #data frame filtered only with the reviews written in the provided languages\n",
    "    filtered_df = df[df[\"language\"].isin(languages)]\n",
    "    return filtered_df"
   ]
  },
  {
   "cell_type": "markdown",
   "id": "2f63645a-11a7-4b1b-bb74-5068e1738f98",
   "metadata": {
    "id": "Zd1OMt7WyAff"
   },
   "source": [
    "Next we use our function filter_by_language to retrieve the subset of the dataframe pertaining to the three top languages.\n",
    "\n",
    "We are interested for these languages to see which games have been voted as funny or helpful by creating two new boolean variables. Indeed, here we consider that a review is funny or helpful if it has one vote or more but this threshold can be changed with the variable threshold"
   ]
  },
  {
   "cell_type": "code",
   "execution_count": 34,
   "id": "d58a2922-538f-4566-afcc-c80db61ece04",
   "metadata": {
    "id": "qe9q1hkfx9Ig"
   },
   "outputs": [],
   "source": [
    "filtered_df = filter_by_language(df, top_three_languages)"
   ]
  },
  {
   "cell_type": "code",
   "execution_count": 35,
   "id": "479a9f90-472b-4fd3-8ae0-62d5eb668c45",
   "metadata": {
    "id": "ZyEKFFDXyIND"
   },
   "outputs": [],
   "source": [
    "n = len(filtered_df)\n",
    "\n",
    "#i fix a threshold which represent the minimum number of vote to consider the review helpful or funny\n",
    "threshold=1\n",
    "\n",
    "# new dataframe in which we create two new boolean attributes to know if we have more votes than the threshold \n",
    "filtered_df = filtered_df.assign(was_funny=lambda x: x[\"votes_funny\"] >= threshold,\n",
    "                                                       was_helpful=lambda x: x[\"votes_helpful\"] >= threshold)\n",
    "# compute the percentage of funny and helpful rewiews\n",
    "funny_or_not = filtered_df.groupby(\"was_funny\")[\"review_id\"].count() / n\n",
    "helpful_or_not = filtered_df.groupby(\"was_helpful\")[\"review_id\"].count() / n"
   ]
  },
  {
   "cell_type": "markdown",
   "id": "89f31a9e-140d-4bf4-8fde-8c0ff754a381",
   "metadata": {
    "id": "qDIvtSMZyKQO"
   },
   "source": [
    "And now we plot the results."
   ]
  },
  {
   "cell_type": "markdown",
   "id": "0b30a2ab-34f2-40aa-bea1-3e72ec9e089a",
   "metadata": {},
   "source": [
    "#### Barplot for the reviews per language"
   ]
  },
  {
   "cell_type": "code",
   "execution_count": null,
   "id": "577f206c-5d92-4978-9b74-ee3191d7d422",
   "metadata": {
    "colab": {
     "base_uri": "https://localhost:8080/",
     "height": 458
    },
    "id": "napIw9ytyMUb",
    "outputId": "d74e1245-5db3-424c-d6ac-caed1d9ba52d"
   },
   "outputs": [
    {
     "data": {
      "image/png": "[encoded data removed]",
      "text/plain": [
       "<Figure size 1080x504 with 1 Axes>"
      ]
     },
     "metadata": {
      "needs_background": "light"
     },
     "output_type": "display_data"
    }
   ],
   "source": [
    "cmap_barplot(reviews_per_language.index[::-1], reviews_per_language[::-1], \n",
    "             (15, 7), \"Reviews per language\", \"# of reviews\",\n",
    "             'languages', \"cool\", len(reviews_per_language.index))"
   ]
  },
  {
   "cell_type": "markdown",
   "id": "0d89af08-68e1-4be1-a46a-89fee83ae965",
   "metadata": {},
   "source": [
    "#### Pie plot for funny or not reviews"
   ]
  },
  {
   "cell_type": "code",
   "execution_count": 39,
   "id": "81a0a4b2-1455-45eb-91e1-933ddadd38ed",
   "metadata": {
    "colab": {
     "base_uri": "https://localhost:8080/",
     "height": 482
    },
    "id": "zg5lEarNyOXc",
    "outputId": "175759e4-ca02-43ea-d24e-6e14e34aae55"
   },
   "outputs": [
    {
     "data": {
      "image/png": "[encoded data removed]",
      "text/plain": [
       "<Figure size 576x576 with 1 Axes>"
      ]
     },
     "metadata": {},
     "output_type": "display_data"
    }
   ],
   "source": [
    "fig_2 = plt.figure(figsize=(8, 8))\n",
    "plt.pie(labels = ['Not Funny', 'Funny'],\n",
    "        x = funny_or_not,\n",
    "        colors=[\"crimson\",\"violet\"], explode = [0.1,0.1])\n",
    "plt.title(\"Percentage of funny reviews for the top three languages\")\n",
    "plt.show()"
   ]
  },
  {
   "cell_type": "markdown",
   "id": "0ed48697-d733-44b0-97ae-2f8becea9760",
   "metadata": {},
   "source": [
    "#### Pie plot for helpful or not reviews"
   ]
  },
  {
   "cell_type": "code",
   "execution_count": 42,
   "id": "5c8feabf-1f30-4c7f-ba09-84c864ea10d0",
   "metadata": {
    "colab": {
     "base_uri": "https://localhost:8080/",
     "height": 482
    },
    "id": "rZELwJZKyR2D",
    "outputId": "bda2fde8-cf73-463c-9862-cc40f9556209"
   },
   "outputs": [
    {
     "data": {
      "image/png": "[encoded data removed]",
      "text/plain": [
       "<Figure size 576x576 with 1 Axes>"
      ]
     },
     "metadata": {},
     "output_type": "display_data"
    }
   ],
   "source": [
    "fig_2 = plt.figure(figsize=(8,8))\n",
    "plt.pie(labels = ['Not Helpful','Helpful'],\n",
    "        x = helpful_or_not,\n",
    "        colors =[\"lime\", \"lightgreen\"], explode = [0.1, 0.1])\n",
    "plt.title(\"Percentage of helpful reviews for the top three languages\")\n",
    "plt.show()"
   ]
  },
  {
   "cell_type": "markdown",
   "id": "2a589069-26f7-4c73-a4e8-7c40f46f5078",
   "metadata": {
    "tags": []
   },
   "source": [
    "## Insights about the authors of the reviews\n",
    "The reviews' authors are users from the game that provide their opinion on it. Nowwe can check how often they make reviews."
   ]
  },
  {
   "cell_type": "markdown",
   "id": "931bea47-e02b-4f49-a7f7-2682d557a271",
   "metadata": {},
   "source": [
    "First of all, we retrieve the number of reviews submitted by each author. And then order them in descending order and retrieve the top 10 authors (in terms of number of contributions) and we plot the results (after transforming each id in a string)."
   ]
  },
  {
   "cell_type": "code",
   "execution_count": 45,
   "id": "e1001f99-6ceb-47d9-b2fa-fd022ed111f3",
   "metadata": {
    "id": "XLHugbHhlR-X"
   },
   "outputs": [],
   "source": [
    "#compute the number of review per reviewer \"author.steamid\"\n",
    "author_df = df.groupby(\"author.steamid\")[\"review_id\"].count()"
   ]
  },
  {
   "cell_type": "code",
   "execution_count": 46,
   "id": "909a6a56-6517-42c3-8f43-c7bb61384506",
   "metadata": {
    "id": "vzN2IE8bGsc3"
   },
   "outputs": [],
   "source": [
    "# store the top 10\n",
    "top_10_reviewers = author_df.sort_values(ascending=False).iloc[:10]\n",
    "\n",
    "#change the type to obtain labels (str)\n",
    "authors_names = list(map(str, top_10_reviewers.index.tolist()))"
   ]
  },
  {
   "cell_type": "markdown",
   "id": "6cf91098-8f62-4ddb-ae83-156005a6cb97",
   "metadata": {},
   "source": [
    "#### Barplot of the reviewers"
   ]
  },
  {
   "cell_type": "code",
   "execution_count": 47,
   "id": "9498d227-703d-41b8-b307-4619b2a24e29",
   "metadata": {
    "colab": {
     "base_uri": "https://localhost:8080/",
     "height": 458
    },
    "id": "nJjHx_OIGSx0",
    "outputId": "8258ed32-99f3-4d16-b9e6-49414365399c"
   },
   "outputs": [
    {
     "data": {
      "image/png": "[encoded data removed]",
      "text/plain": [
       "<Figure size 1080x504 with 1 Axes>"
      ]
     },
     "metadata": {
      "needs_background": "light"
     },
     "output_type": "display_data"
    }
   ],
   "source": [
    "cmap_barplot(authors_names[::-1], top_10_reviewers[::-1], \n",
    "             (15, 7),\"Most popular reviewers\",\"Number of reviews\",\n",
    "             \"Steam ID\", \"YlGnBu\", len(authors_names))"
   ]
  },
  {
   "cell_type": "markdown",
   "id": "18f616e0-196b-40ec-906d-5fac70af2790",
   "metadata": {},
   "source": [
    "Let' find the top reviewer and analyze him mire in depth by obtaining the name of all the applications he reviewed.\n"
   ]
  },
  {
   "cell_type": "code",
   "execution_count": 48,
   "id": "bda95874-ef8f-4b94-8890-f741ccff0100",
   "metadata": {
    "colab": {
     "base_uri": "https://localhost:8080/"
    },
    "id": "81bnCHTJyrU1",
    "outputId": "c63654c5-b63d-4b37-8e59-3e0c509362db"
   },
   "outputs": [
    {
     "name": "stdout",
     "output_type": "stream",
     "text": [
      "The most popular reviewer has the id 7.65611980628139e+16\n"
     ]
    }
   ],
   "source": [
    "top_reviewer = authors_names[0]\n",
    "print('The most popular reviewer has the id',top_reviewer)"
   ]
  },
  {
   "cell_type": "code",
   "execution_count": 49,
   "id": "560539e9-41aa-4d9d-83e8-62a88d01c99c",
   "metadata": {
    "id": "sFEanQJJyuxH"
   },
   "outputs": [],
   "source": [
    "top_reviewer = df[df[\"author.steamid\"]==float(top_reviewer)]"
   ]
  },
  {
   "cell_type": "code",
   "execution_count": 50,
   "id": "aea9f9ce-35d8-4b53-bb2c-5be7d78548fb",
   "metadata": {
    "colab": {
     "base_uri": "https://localhost:8080/"
    },
    "collapsed": true,
    "id": "fzQP16wKyyg9",
    "jupyter": {
     "outputs_hidden": true
    },
    "outputId": "d5a93b5a-dd37-4d65-bc0d-f8c5bb04fae7",
    "tags": []
   },
   "outputs": [
    {
     "name": "stdout",
     "output_type": "stream",
     "text": [
      "The top reviewer wrote reviews about :\n",
      "\n",
      "\tHalf-Life\n",
      "\tCounter-Strike: Source\n",
      "\tHalf-Life 2: Episode Two\n",
      "\tPortal 2\n",
      "\tGarry's Mod\n",
      "\tSid Meier's Civilization V\n",
      "\tDead by Daylight\n",
      "\tSid Meier's Civilization VI\n",
      "\tSubnautica\n",
      "\tHuman: Fall Flat\n",
      "\tBanished\n",
      "\tCeleste\n",
      "\tGetting Over It with Bennett Foddy\n",
      "\tA Hat in Time\n",
      "\tThe Forest\n",
      "\tAxiom Verge\n",
      "\tThe Binding of Isaac: Rebirth\n",
      "\tTo the Moon\n",
      "\tCave Story+\n",
      "\tTitan Souls\n",
      "\tSuper Meat Boy\n",
      "\tDon't Escape: 4 Days to Survive\n",
      "\tVolgarr the Viking\n",
      "\tEnter the Gungeon\n",
      "\tSalt and Sanctuary\n",
      "\tHollow Knight\n",
      "\tThe End Is Nigh\n",
      "\tFactorio\n",
      "\tRimWorld\n",
      "\tInsurgency: Sandstorm\n",
      "\tEuro Truck Simulator 2\n",
      "\tFoundation\n",
      "\tKenshi\n",
      "\tInto the Breach\n",
      "\tWarhammer: Vermintide 2\n",
      "\tDOOM Eternal\n",
      "\tAge of Empires: Definitive Edition\n",
      "\tVoid Bastards\n",
      "\tStardew Valley\n",
      "\tAmong Us\n",
      "\tBlackwake\n",
      "\tLittle Nightmares\n",
      "\tBomber Crew\n",
      "\tRust\n",
      "\tHITMAN™ 2\n",
      "\tPhasmophobia\n",
      "\tMount & Blade: Warband\n",
      "\tResident Evil 2\n",
      "\tSlime Rancher\n",
      "\tHotline Miami\n",
      "\tTomb Raider\n",
      "\tBattleBlock Theater\n",
      "\tDishonored\n",
      "\tSouth Park™: The Stick of Truth™\n",
      "\tUndertale\n",
      "\tDon't Starve\n",
      "\tRocket League\n",
      "\tDead Cells\n",
      "\tBroforce\n",
      "\tThe Wolf Among Us\n",
      "\tThe Walking Dead\n",
      "\tOne Finger Death Punch\n",
      "\tOxygen Not Included\n",
      "\tCuphead\n",
      "\tULTRAKILL\n",
      "\tCastle Crashers\n",
      "\tTownscaper\n",
      "\tPapers, Please\n",
      "\tGRIS\n",
      "\tDUSK\n",
      "\tOutlast\n",
      "\tFTL: Faster Than Light\n",
      "\tDying Light\n",
      "\tAmerican Truck Simulator\n",
      "\tSaints Row: The Third\n",
      "\tSTAR WARS™ Empire at War: Gold Pack\n",
      "\tAge of Empires II (2013)\n",
      "\tSuper Hexagon\n",
      "\tBioShock Infinite\n",
      "\tDOOM\n",
      "\tBlack Mesa\n",
      "\tFinding Paradise\n",
      "\tKeep Talking and Nobody Explodes\n",
      "\tDuck Game\n",
      "\tMark of the Ninja\n",
      "\tPhoenix Wright: Ace Attorney Trilogy\n",
      "\tGunpoint\n",
      "\tPLAYERUNKNOWN'S BATTLEGROUNDS\n",
      "\tMonster Hunter: World\n",
      "\tThe Elder Scrolls Online\n",
      "\tTotal War: WARHAMMER II\n",
      "\tCities: Skylines\n",
      "\tStellaris\n",
      "\tBlack Desert Online\n",
      "\tKingdom Come: Deliverance\n",
      "\tJurassic World Evolution\n",
      "\tARK: Survival Evolved\n",
      "\tNo Man's Sky\n",
      "\tFrostpunk\n",
      "\tFallout 4\n",
      "\tDARK SOULS™ III\n",
      "\tRise of the Tomb Raider\n",
      "\tMiddle-earth™: Shadow of War™\n",
      "\tHearts of Iron IV\n",
      "\tThey Are Billions\n",
      "\tTotal War Saga: Thrones of Britannia\n",
      "\tTotal War: ROME II - Emperor Edition\n",
      "\tTerraria\n",
      "\tPAYDAY 2\n",
      "\tXCOM 2\n",
      "\tDeep Rock Galactic\n",
      "\tHunt: Showdown\n",
      "\tConan Exiles\n",
      "\tTwo Point Hospital\n",
      "\tTotal War: WARHAMMER\n",
      "\tThe Elder Scrolls V: Skyrim Special Edition\n",
      "\tNieR:Automata™\n",
      "\tHouse Flipper\n",
      "\tSurviving Mars\n",
      "\tNi no Kuni™ II: Revenant Kingdom\n",
      "\tRailway Empire\n",
      "\tRise of Industry\n",
      "\tDevil May Cry HD Collection\n",
      "\tHeroes of Hammerwatch\n",
      "\tGhost of a Tale\n",
      "\tAncestors Legacy\n",
      "\tFAR: Lone Sails\n",
      "\tTotally Accurate Battlegrounds\n",
      "\tVampyr\n",
      "\tYakuza 0\n",
      "\tThief Simulator\n",
      "\tDarksiders III\n",
      "\tMutant Year Zero: Road to Eden\n",
      "\tJust Cause 4\n",
      "\tPlanet Coaster\n",
      "\tNioh: Complete Edition\n",
      "\tEuropa Universalis IV\n",
      "\tJust Cause 3\n",
      "\tResident Evil 7 Biohazard\n",
      "\tUrban Empire\n",
      "\tYoutubers Life\n",
      "\tNight in the Woods\n",
      "\tNorthgard\n",
      "\tSniper Elite 4\n",
      "\tDay of Infamy\n",
      "\tSimAirport\n",
      "\tDead Rising 4\n",
      "\tStyx: Shards of Darkness\n"
     ]
    }
   ],
   "source": [
    "print('The top reviewer wrote reviews about :\\n')\n",
    "for app in pd.unique(top_reviewer[\"app_name\"]):\n",
    "    print('\\t'+app) "
   ]
  },
  {
   "cell_type": "markdown",
   "id": "c45cc039-ca71-4846-9a80-8a4c6bd05278",
   "metadata": {
    "id": "kSxGoEgjy-ff"
   },
   "source": [
    "And now we specifically save the information about the number of copies he purchased or received for free and whether he recommended them or not.\n",
    "\n",
    "N.B. : We consider that a person wrote a review only if he played this game, so if he did nit obtain it for free he bought it."
   ]
  },
  {
   "cell_type": "code",
   "execution_count": 51,
   "id": "45b02578-5322-4dd8-abf6-c146454765b6",
   "metadata": {
    "colab": {
     "base_uri": "https://localhost:8080/"
    },
    "id": "bXKwI9_yy_Fx",
    "outputId": "cb325842-f5c4-481f-84fd-6f99f4524e7c"
   },
   "outputs": [
    {
     "data": {
      "text/plain": [
       "received_for_free\n",
       "False    0.973154\n",
       "True     0.026846\n",
       "Name: review_id, dtype: float64"
      ]
     },
     "execution_count": 51,
     "metadata": {},
     "output_type": "execute_result"
    }
   ],
   "source": [
    "free_or_not_top_reviewer = top_reviewer.groupby(\"received_for_free\")[\"review_id\"].count()\n",
    "free_or_not_top_reviewer / len(top_reviewer)"
   ]
  },
  {
   "cell_type": "markdown",
   "id": "62241b1b-6c9b-4ffd-b630-eb277dc694e8",
   "metadata": {},
   "source": [
    "As we can see the number of games received for free is not large enough to allow us to infer some informations for this reason we'll focus onthe purchased games."
   ]
  },
  {
   "cell_type": "code",
   "execution_count": 52,
   "id": "bb9d49ef-7b51-4108-b874-e94817565b64",
   "metadata": {
    "colab": {
     "base_uri": "https://localhost:8080/"
    },
    "id": "N_fGm_jCzHqb",
    "outputId": "9fd23fc4-0f14-43ef-8431-6274851c8f6f"
   },
   "outputs": [
    {
     "data": {
      "text/plain": [
       "recommended\n",
       "False      3\n",
       "True     142\n",
       "Name: review_id, dtype: int64"
      ]
     },
     "execution_count": 52,
     "metadata": {},
     "output_type": "execute_result"
    }
   ],
   "source": [
    "recommended_purchased = top_reviewer[top_reviewer[\"received_for_free\"]==False].groupby(\"recommended\")[\"review_id\"].count()\n",
    "recommended_purchased"
   ]
  },
  {
   "cell_type": "markdown",
   "id": "c3e3d32e-72db-4b52-9ee0-d577514f4cdf",
   "metadata": {
    "id": "2zY4oN32zNAn"
   },
   "source": [
    "And now we plot the results."
   ]
  },
  {
   "cell_type": "markdown",
   "id": "864030de-d4a3-40e0-834f-57c9a688122c",
   "metadata": {
    "tags": []
   },
   "source": [
    "#### Pie plot of the recommended games purchased from the top reviewer"
   ]
  },
  {
   "cell_type": "code",
   "execution_count": 49,
   "id": "9dcacc3e-c974-4151-8e2a-34af37b9e32f",
   "metadata": {
    "colab": {
     "base_uri": "https://localhost:8080/",
     "height": 591
    },
    "id": "Xdw8YElj4uu7",
    "outputId": "d42a5a86-7509-4132-c282-8c4c88077c8d"
   },
   "outputs": [
    {
     "data": {
      "image/png": "[encoded data removed]",
      "text/plain": [
       "<Figure size 720x720 with 1 Axes>"
      ]
     },
     "metadata": {},
     "output_type": "display_data"
    }
   ],
   "source": [
    "plt.figure(figsize=(10,10))\n",
    "plt.pie(labels=[\"Not recommended\", \"Recommended\"],\n",
    "        x = recommended_purchased,\n",
    "        colors=[\"darkgoldenrod\",\"khaki\" ], explode = [0.1, 0.1])\n",
    "plt.title(\"Purchased games positive vs negative reviews\");"
   ]
  }
 ],
 "metadata": {
  "kernelspec": {
   "display_name": "Python 3 (ipykernel)",
   "language": "python",
   "name": "python3"
  },
  "language_info": {
   "codemirror_mode": {
    "name": "ipython",
    "version": 3
   },
   "file_extension": ".py",
   "mimetype": "text/x-python",
   "name": "python",
   "nbconvert_exporter": "python",
   "pygments_lexer": "ipython3",
   "version": "3.8.10"
  }
 },
 "nbformat": 4,
 "nbformat_minor": 5
}
